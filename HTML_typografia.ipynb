{
  "nbformat": 4,
  "nbformat_minor": 0,
  "metadata": {
    "colab": {
      "provenance": [],
      "authorship_tag": "ABX9TyOcrZ/Iw6+bR7xA3s9XWQ5s",
      "include_colab_link": true
    },
    "kernelspec": {
      "name": "python3",
      "display_name": "Python 3"
    },
    "language_info": {
      "name": "python"
    }
  },
  "cells": [
    {
      "cell_type": "markdown",
      "metadata": {
        "id": "view-in-github",
        "colab_type": "text"
      },
      "source": [
        "<a href=\"https://colab.research.google.com/github/mjur94/HTML_in_Google_Colab/blob/main/HTML_typografia.ipynb\" target=\"_parent\"><img src=\"https://colab.research.google.com/assets/colab-badge.svg\" alt=\"Open In Colab\"/></a>"
      ]
    },
    {
      "cell_type": "code",
      "execution_count": null,
      "metadata": {
        "colab": {
          "base_uri": "https://localhost:8080/",
          "height": 154
        },
        "id": "245veKd8gRDY",
        "outputId": "739e93fc-5202-4ce4-dea5-7761048bc1ae"
      },
      "outputs": [
        {
          "output_type": "display_data",
          "data": {
            "text/plain": [
              "<IPython.core.display.HTML object>"
            ],
            "text/html": [
              "<style>\n",
              "  @font-face {\n",
              "   font-family: myFirstFont;\n",
              "   src: url(sansation_light.woff);\n",
              "}\n",
              "\n",
              "@font-face {\n",
              "   font-family: myFirstFont;\n",
              "   src: url(sansation_bold.woff);\n",
              "   font-weight: bold;\n",
              "}\n",
              "\n",
              "* {\n",
              "   font-family: myFirstFont;\n",
              "}\n",
              "  div.test {\n",
              "  white-space: nowrap; \n",
              "  width: 200px; \n",
              "  overflow: hidden; \n",
              "  border: 1px solid #000000;\n",
              "}\n",
              "\n",
              "div.test:hover {\n",
              "  overflow: visible;\n",
              "}\n",
              "p {\n",
              "   text-ident: auto;\n",
              "   word-wrap: break-word;\n",
              "   text-decoration: overline;\n",
              "   text-decoration-style: wavy;\n",
              "   text-align: left;\n",
              "   text-align-last: center;\n",
              "   text-indent: 50px;\n",
              "   text-transform: capitalize;\n",
              "   word-spacing: 5px;\n",
              "   -webkit-hyphens: auto;\n",
              "   -ms-hyphens: auto;\n",
              "   hyphens: auto;\n",
              "}\n",
              "</style>\n",
              "<p>Hover over the two divs below, to see the entire text. Hover over the two divs below, to see the entire text. Hover over the two divs below, to see the entire text. Hover over the two divs below, to see the entire text. Hover over the two divs below, to see the entire text. Hover over the two divs below, to see the entire text. Hover over the two divs below, to see the entire text. Hover over the two divs below, to see the entire text. Hover over the two divs below, to see the entire text. Hover over the two divs below, to see the entire text. Hover over the two divs below, to see the entire text. Hover over the two divs below, to see the entire text. Hover over the two divs below, to see the entire text. Hover over the two divs below, to see the entire text. Hover over the two divs below, to see the entire text. Hover over the two divs below, to see the entire text. Hover over the two divs below, to see the entire text. Hover over the two divs below, to see the entire text. Hover over the two divs below, to see the entire text. </p>\n",
              "<div class=\"test\" style=\"text-overflow: ellipsis;\">This is some long text that will not fit in the box</div>\n",
              "<br>\n",
              "<div class=\"test\" style=\"text-overflow:  clip;\">This is some long text that will not fit in the box</div>\n"
            ]
          },
          "metadata": {}
        }
      ],
      "source": [
        "%%html\n",
        "<style>\n",
        "  @font-face {\n",
        "   font-family: myFirstFont;\n",
        "   src: url(sansation_light.woff);\n",
        "}\n",
        "\n",
        "@font-face {\n",
        "   font-family: myFirstFont;\n",
        "   src: url(sansation_bold.woff);\n",
        "   font-weight: bold;\n",
        "}\n",
        "\n",
        "* {\n",
        "   font-family: myFirstFont;\n",
        "}\n",
        "  div.test {\n",
        "  white-space: nowrap; \n",
        "  width: 200px; \n",
        "  overflow: hidden; \n",
        "  border: 1px solid #000000;\n",
        "}\n",
        "\n",
        "div.test:hover {\n",
        "  overflow: visible;\n",
        "}\n",
        "p {\n",
        "   text-ident: auto;\n",
        "   word-wrap: break-word;\n",
        "   text-decoration: overline;\n",
        "   text-decoration-style: wavy;\n",
        "   text-align: left;\n",
        "   text-align-last: center;\n",
        "   text-indent: 50px;\n",
        "   text-transform: capitalize;\n",
        "   word-spacing: 5px;\n",
        "   -webkit-hyphens: auto;\n",
        "   -ms-hyphens: auto;\n",
        "   hyphens: auto;\n",
        "}\n",
        "</style>\n",
        "<p>Hover over the two divs below, to see the entire text. Hover over the two divs below, to see the entire text. Hover over the two divs below, to see the entire text. Hover over the two divs below, to see the entire text. Hover over the two divs below, to see the entire text. Hover over the two divs below, to see the entire text. Hover over the two divs below, to see the entire text. Hover over the two divs below, to see the entire text. Hover over the two divs below, to see the entire text. Hover over the two divs below, to see the entire text. Hover over the two divs below, to see the entire text. Hover over the two divs below, to see the entire text. Hover over the two divs below, to see the entire text. Hover over the two divs below, to see the entire text. Hover over the two divs below, to see the entire text. Hover over the two divs below, to see the entire text. Hover over the two divs below, to see the entire text. Hover over the two divs below, to see the entire text. Hover over the two divs below, to see the entire text. </p>\n",
        "<div class=\"test\" style=\"text-overflow: ellipsis;\">This is some long text that will not fit in the box</div>\n",
        "<br>\n",
        "<div class=\"test\" style=\"text-overflow:  clip;\">This is some long text that will not fit in the box</div>\n"
      ]
    }
  ]
}